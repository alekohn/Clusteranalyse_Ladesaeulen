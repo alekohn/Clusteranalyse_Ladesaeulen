{
 "cells": [
  {
   "cell_type": "markdown",
   "id": "e9d0fecb",
   "metadata": {},
   "source": [
    "# Clusteranalyse mit K-Means"
   ]
  },
  {
   "cell_type": "code",
   "execution_count": null,
   "id": "28d71311",
   "metadata": {},
   "outputs": [],
   "source": [
    "import warnings\n",
    "warnings.filterwarnings('ignore')\n",
    "import pandas as pd  \n",
    "import numpy as np  \n",
    "import matplotlib.pyplot as plt\n",
    "import seaborn as sns    \n",
    "from sklearn.cluster import KMeans\n",
    "from sklearn.metrics import silhouette_samples, silhouette_score\n",
    "from sklearn.preprocessing import StandardScaler\n",
    "from sklearn import metrics"
   ]
  },
  {
   "cell_type": "code",
   "execution_count": null,
   "id": "2adb0678",
   "metadata": {},
   "outputs": [],
   "source": [
    "def Musterplot(ax, title, xlabel, ylabel, xticks, yticks):\n",
    "    ax.spines['top'].set_visible(True)\n",
    "    ax.spines['right'].set_visible(True)\n",
    "\n",
    "    ax.xaxis.set_tick_params(top='on', direction='in', width=1)\n",
    "    ax.yaxis.set_tick_params(right='on', direction='in', width=1)\n",
    "    \n",
    "    ax.set_title(title,fontweight='bold',fontsize=14)\n",
    "    \n",
    "    ax.set_xlabel(xlabel,fontweight='bold',fontsize=12)\n",
    "    ax.set_ylabel(ylabel,fontweight='bold',fontsize=12)\n",
    "    \n",
    "    ax.set_xticks(xticks)\n",
    "    ax.set_yticks(yticks)"
   ]
  },
  {
   "cell_type": "code",
   "execution_count": null,
   "id": "b18d8884",
   "metadata": {
    "scrolled": true
   },
   "outputs": [],
   "source": [
    "df = pd.read_csv(\"Datensatz_Clusteranalyse.csv\", sep=\";\")"
   ]
  },
  {
   "cell_type": "code",
   "execution_count": null,
   "id": "5ac5a95a",
   "metadata": {
    "scrolled": true
   },
   "outputs": [],
   "source": [
    "df2 = df[['Ankunftszeit','Abfahrtszeit','Ladeanteil','Leistung_max (kW)','Verbrauch (kWh)']]"
   ]
  },
  {
   "cell_type": "code",
   "execution_count": null,
   "id": "f1c746dd",
   "metadata": {},
   "outputs": [],
   "source": [
    "# Skalierung der Merkmale\n",
    "\n",
    "scaler = StandardScaler()\n",
    "X = scaler.fit_transform(df2)\n",
    "X = pd.DataFrame(X, columns=df2.columns)\n"
   ]
  },
  {
   "cell_type": "code",
   "execution_count": null,
   "id": "47927195",
   "metadata": {},
   "outputs": [],
   "source": [
    "## Ermittlung der Clusteranzahl mit Ellenbogen- und Silhoutten-Methode\n",
    "\n",
    "inertia = []\n",
    "silhouette = []\n",
    "\n",
    "for k in range(2, 12):\n",
    "    kmeans = KMeans(n_clusters=k, init = 'k-means++', random_state=42)\n",
    "    labels = kmeans.fit_predict(X)\n",
    "    labels2 = kmeans.fit(X)\n",
    "    u = kmeans.inertia_\n",
    "    inertia.append(u)\n",
    "    score = silhouette_score(X, labels)\n",
    "    silhouette.append(score)\n",
    "\n",
    "fig, ax = plt.subplots()\n",
    "\n",
    "xlabel = \"k: Anzahl der Cluster\"\n",
    "ylabel = \"J(k)\"\n",
    "title = \"Ellenbogen-Methode\"\n",
    "\n",
    "yticks = np.arange(1000, 5000, step=500)\n",
    "xticks = np.arange(2, 13, step=1)\n",
    "\n",
    "# plt.annotate('Ellenbogen', xy=(5,2600), \n",
    "#              xytext=(6, 3500),fontweight='bold', arrowprops=dict(facecolor='red',shrink=0.1))\n",
    "\n",
    "plt.grid()\n",
    "ax.plot(range(2, 12), inertia, color='blue', marker='o')\n",
    "Musterplot(ax, title, xlabel, ylabel, xticks, yticks)\n",
    "plt.show()\n",
    "\n",
    "fig2, ax2 = plt.subplots()\n",
    "\n",
    "xlabel = \"k: Anzahl der Cluster\"\n",
    "ylabel = \"Silhouetten-Mittelwert\"\n",
    "title = \"Silhouetten-Methode\"\n",
    "\n",
    "yticks = np.arange(0.26, 0.32, step=0.005)\n",
    "xticks = np.arange(1, 13, step=1)\n",
    "plt.grid()\n",
    "ax2.plot(range(2, 12), silhouette, color='blue', marker='o')\n",
    "Musterplot(ax2, title, xlabel, ylabel, xticks, yticks)\n",
    "\n",
    "plt.show()\n",
    "\n",
    "# fig.savefig(\"KMeans_Ellenbogen_5\")\n",
    "# fig2.savefig(\"KMeans_Silhoutte_5\")"
   ]
  },
  {
   "cell_type": "code",
   "execution_count": null,
   "id": "f296dd40",
   "metadata": {},
   "outputs": [],
   "source": [
    "## Initalisierung K-Means\n",
    "\n",
    "kmeans = KMeans(n_clusters=5, init = 'k-means++', random_state=None)\n",
    "y_kmeans = kmeans.fit_transform(X)\n",
    "Labels = kmeans.labels_"
   ]
  },
  {
   "cell_type": "code",
   "execution_count": null,
   "id": "edd2ecab",
   "metadata": {
    "scrolled": false
   },
   "outputs": [],
   "source": [
    "## Statistische Analyse der Cluster durch Mittelwert\n",
    "\n",
    "df2['Labels'] = Labels\n",
    "df2['Cluster'] = df2['Labels'].map({0:'Eins', 1:'Zwei',2:'Drei', 3:'Vier',4:'Fünf'})\n",
    "df2['Cluster'] = df2['Cluster'].astype('category')\n",
    "df2['Cluster'] = df2['Cluster'].cat.reorder_categories(['Eins','Zwei','Drei','Vier','Fünf'])\n",
    "\n",
    "df3 = df2.groupby('Cluster').agg(\n",
    "    { \n",
    "        'Labels':'count',\n",
    "        'Ankunftszeit': 'mean',\n",
    "        'Abfahrtszeit': 'mean',\n",
    "        'Ladeanteil': 'mean',\n",
    "        'Leistung_max (kW)':'mean',\n",
    "        'Verbrauch (kWh)':'mean'\n",
    "    }\n",
    ").reset_index()"
   ]
  },
  {
   "cell_type": "code",
   "execution_count": null,
   "id": "fbecf2c4",
   "metadata": {
    "scrolled": true
   },
   "outputs": [],
   "source": [
    "df3"
   ]
  },
  {
   "cell_type": "code",
   "execution_count": null,
   "id": "7fbe3f10",
   "metadata": {},
   "outputs": [],
   "source": [
    "## Plot für zweidimensionales Beispiel (Ankunfts- und Abfahrtszeit)\n",
    "\n",
    "# fig, ax = plt.subplots(1,1,figsize=(7,5))\n",
    "\n",
    "# xlabel = \"Ankunftszeit in h\"\n",
    "# ylabel = \"Abfahrtszeit in h \"\n",
    "# title = \"Clusterergebnis mit K-Means (Ankunfts- und Abfahrtszeit)\"\n",
    "# yticks = np.arange(5, 25, step=1)\n",
    "# xticks = np.arange(5, 25, step=1)\n",
    "# plt.grid()\n",
    "# ax.set_axisbelow(True)\n",
    "# sns.scatterplot(df2['Ankunftszeit'], df2['Abfahrtszeit'], hue = df2['Labels'],palette=\"deep\")\n",
    "# # ax.scatter(df['Ankunftszeit'],df['Abfahrtszeit'], c = df2['Labels'])\n",
    "# ax.scatter(kmeans.cluster_centers_[:,0] , kmeans.cluster_centers_[:,1] ,marker='x', s = 200, color = 'k')\n",
    "# Musterplot(ax, title, xlabel, ylabel, xticks, yticks)\n",
    "\n",
    "# plt.show()\n",
    "\n",
    "# fig.savefig(\"Scatterplot_A_A_Beispiel_KMeans\")"
   ]
  },
  {
   "cell_type": "code",
   "execution_count": null,
   "id": "28f924ad",
   "metadata": {
    "scrolled": true
   },
   "outputs": [],
   "source": [
    "## Plot für Zweidimensionales Beispiel (max. Leistung und Gesamtsverbrauch)\n",
    "\n",
    "# X['Labels'] = Labels\n",
    "\n",
    "# fig, ax = plt.subplots(1,1,figsize=(7,5))\n",
    "\n",
    "# xlabel = \"max. Leistung (skaliert)\"\n",
    "# ylabel = \"Verbrauch (skaliert)\"\n",
    "# title = \"Clusterergebnis mit K-Means (max. Leistung und Verbrauch )\"\n",
    "# yticks = np.arange(-2, 5.1, step=0.4)\n",
    "# xticks = np.arange(-2, 4, step=0.4)\n",
    "# plt.grid()\n",
    "# ax.set_axisbelow(True)\n",
    "# sns.scatterplot(X['Leistung_max (kW)'], X['Verbrauch (kWh)'], hue = X['Labels'],palette=\"deep\")\n",
    "# # ax.scatter(df['Ankunftszeit'],df['Abfahrtszeit'], c = df2['Labels'])\n",
    "# ax.scatter(kmeans.cluster_centers_[:,0] , kmeans.cluster_centers_[:,1] ,marker='x', s = 200, color = 'k')\n",
    "# Musterplot(ax, title, xlabel, ylabel, xticks, yticks)\n",
    "\n",
    "# plt.show()\n",
    "\n",
    "# fig.savefig(\"Scatterplot_L_V_Beispiel_KMeans\")"
   ]
  },
  {
   "cell_type": "code",
   "execution_count": null,
   "id": "448ea0c5",
   "metadata": {},
   "outputs": [],
   "source": [
    "## Naheliegenste Datenpunkte an den jeweiligen Zentroiden\n",
    "\n",
    "df3 = df2.drop(\"Labels\",axis =1)\n",
    "Cluster_min = np.argmin(y_kmeans, axis=0)\n",
    "Cluster_min = df3.to_numpy()[Cluster_min]\n",
    "Cluster_min = pd.DataFrame(Cluster_min)\n",
    "Cluster_min.columns = ['Ankunftszeit','Abfahrtszeit','Ladeanteil','Leistung_max (kW)','Verbrauch (kWh)','Cluster']\n",
    "Cluster_min"
   ]
  }
 ],
 "metadata": {
  "kernelspec": {
   "display_name": "Python 3 (ipykernel)",
   "language": "python",
   "name": "python3"
  },
  "language_info": {
   "codemirror_mode": {
    "name": "ipython",
    "version": 3
   },
   "file_extension": ".py",
   "mimetype": "text/x-python",
   "name": "python",
   "nbconvert_exporter": "python",
   "pygments_lexer": "ipython3",
   "version": "3.9.7"
  },
  "widgets": {
   "application/vnd.jupyter.widget-state+json": {
    "state": {},
    "version_major": 2,
    "version_minor": 0
   }
  }
 },
 "nbformat": 4,
 "nbformat_minor": 5
}
