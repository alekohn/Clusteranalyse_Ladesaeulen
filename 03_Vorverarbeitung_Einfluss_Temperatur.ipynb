{
 "cells": [
  {
   "cell_type": "markdown",
   "id": "c6d17195",
   "metadata": {},
   "source": [
    "# Einfluss von Temperatur auf Verbrauch "
   ]
  },
  {
   "cell_type": "code",
   "execution_count": null,
   "id": "071a7044",
   "metadata": {},
   "outputs": [],
   "source": [
    "import warnings\n",
    "warnings.filterwarnings('ignore')\n",
    "import numpy as np \n",
    "import pandas as pd\n",
    "import matplotlib.pyplot as plt\n",
    "from matplotlib.dates import DateFormatter\n",
    "import matplotlib.dates as mdates"
   ]
  },
  {
   "cell_type": "code",
   "execution_count": null,
   "id": "8f2d01e7",
   "metadata": {
    "scrolled": false
   },
   "outputs": [],
   "source": [
    "df = pd.read_csv(r\"Dateipfad\\Ladevorgänge_H_R_SZ.csv\",sep=';',encoding='latin-1')\n",
    "df2 = pd.read_csv(\"Temperatur_mittel.csv\",sep='\",\"', encoding='latin-1')\n",
    "df[\"Gestartet\"] = pd.to_datetime(df[\"Gestartet\"])"
   ]
  },
  {
   "cell_type": "code",
   "execution_count": null,
   "id": "e58e4504",
   "metadata": {
    "scrolled": true
   },
   "outputs": [],
   "source": [
    "df[\"Date\"] = df[\"Gestartet\"].dt.date\n",
    "df2 = df2.rename(columns={\"Zeitstempel\":\"Date\", \"Wert\":\"Temp_mittel\"})"
   ]
  },
  {
   "cell_type": "code",
   "execution_count": null,
   "id": "57a34978",
   "metadata": {},
   "outputs": [],
   "source": [
    "df.set_index(pd.to_datetime(df['Date']), inplace=True)\n",
    "df2.set_index(pd.to_datetime(df2['Date']), inplace=True)"
   ]
  },
  {
   "cell_type": "code",
   "execution_count": null,
   "id": "35040c27",
   "metadata": {},
   "outputs": [],
   "source": [
    "df_fertig = df.merge(df2, left_index=True, right_index=True, how='outer')"
   ]
  },
  {
   "cell_type": "code",
   "execution_count": null,
   "id": "37247930",
   "metadata": {},
   "outputs": [],
   "source": [
    "df_fertig = df_fertig.dropna()"
   ]
  },
  {
   "cell_type": "code",
   "execution_count": null,
   "id": "f645d159",
   "metadata": {},
   "outputs": [],
   "source": [
    "df_fertig = df_fertig.reset_index()"
   ]
  },
  {
   "cell_type": "code",
   "execution_count": null,
   "id": "25bf196f",
   "metadata": {},
   "outputs": [],
   "source": [
    "df_fertig[\"Jahr\"] = df_fertig[\"Gestartet\"].dt.strftime(\"%Y\")\n",
    "df_fertig[\"Monat\"] = df_fertig[\"Gestartet\"].dt.strftime(\"%m\")\n",
    "df_fertig[\"Wochentag\"] = df_fertig[\"Gestartet\"].dt.strftime(\"%A\")"
   ]
  },
  {
   "cell_type": "code",
   "execution_count": null,
   "id": "22661af7",
   "metadata": {},
   "outputs": [],
   "source": [
    "df_fertig = df_fertig[['Gestartet','Verbrauch (kWh)','Temp_mittel','Jahr','Monat', 'Wochentag']]"
   ]
  },
  {
   "cell_type": "code",
   "execution_count": null,
   "id": "f9e0a7ae",
   "metadata": {
    "scrolled": true
   },
   "outputs": [],
   "source": [
    "df_fertig[\"Ladesitzung\"] = 1\n",
    "df_fertig['Verbrauch (kWh)'] = df_fertig['Verbrauch (kWh)'].str.replace(',', '.').astype(float)\n",
    "df_fertig = df_fertig[df_fertig['Verbrauch (kWh)'] > 0]"
   ]
  },
  {
   "cell_type": "code",
   "execution_count": null,
   "id": "1e1669ba",
   "metadata": {
    "scrolled": false
   },
   "outputs": [],
   "source": [
    "data = df_fertig\n",
    "data['Gestartet'] = pd.to_datetime(data['Gestartet'], format='%d.%m.%Y %H:%M')\n",
    "\n",
    "df1 = data['Temp_mittel'].groupby([data['Gestartet'].dt.month_name(), data['Gestartet'].dt.year], sort=False).mean()\n",
    "df2 = data[\"Verbrauch (kWh)\"].groupby([data['Gestartet'].dt.month_name(), data['Gestartet'].dt.year], sort=False).mean()\n",
    "temp = pd.DataFrame(df1)\n",
    "verbrauch = pd.DataFrame(df2)\n",
    "\n",
    "temp.index.rename(['month','year'], inplace=True) \n",
    "verbrauch.index.rename(['month','year'], inplace=True) \n",
    "temp.reset_index( inplace=True)\n",
    "verbrauch.reset_index( inplace=True)\n",
    "\n",
    "fig,ax = plt.subplots(figsize=(10, 5))\n",
    "\n",
    "ax.plot(temp.index,temp. Temp_mittel, color=\"red\", marker=\"o\")\n",
    "ax.set_xlabel(\"Monate (2018-2022)\", fontsize = 14)\n",
    "ax.set_ylabel(\" \\u00D8 Temperatur (°C)\", color = \"red\",fontsize=14)\n",
    "\n",
    "ticks = np.arange(0, 43, 1)\n",
    "labels = ['December', '2019-January', 'February*', 'March*', 'April', 'May', 'June',\n",
    "       'July*', 'August*', 'September*', 'October', 'November', 'December',\n",
    "       '2020-January', 'February*', 'March*', 'April', 'May', 'June', 'July*',\n",
    "       'August*', 'September*', 'October', 'November', 'December',\n",
    "       '2021-January*', 'February*', 'March', 'April', 'May', 'June', 'July*',\n",
    "       'August*', 'September', 'October', 'November', 'December',\n",
    "       '2022-January', 'February*', 'March', 'April', 'May', 'June']\n",
    "\n",
    "plt.xticks(ticks,labels)\n",
    "plt.xticks(rotation=90)\n",
    "ax2 = ax.twinx()\n",
    "ax2.plot(temp.index , verbrauch[\"Verbrauch (kWh)\"] , color=\"blue\", marker=\"o\")\n",
    "ax2.set_ylabel(\" \\u00D8 Verbrauch (kWh)\",color = \"blue\", fontsize=15) \n",
    "ax2.set_ylim(ymin = 0)\n",
    "ax.grid(b = True, which='major', linestyle = '-')\n",
    "\n",
    "plt.show()\n",
    "\n",
    "# fig.savefig(\"Temperatur_Verbrauch\")\n"
   ]
  }
 ],
 "metadata": {
  "kernelspec": {
   "display_name": "Python 3 (ipykernel)",
   "language": "python",
   "name": "python3"
  },
  "language_info": {
   "codemirror_mode": {
    "name": "ipython",
    "version": 3
   },
   "file_extension": ".py",
   "mimetype": "text/x-python",
   "name": "python",
   "nbconvert_exporter": "python",
   "pygments_lexer": "ipython3",
   "version": "3.9.7"
  }
 },
 "nbformat": 4,
 "nbformat_minor": 5
}
