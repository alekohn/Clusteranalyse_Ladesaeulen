{
 "cells": [
  {
   "cell_type": "markdown",
   "id": "e8c3cfa8",
   "metadata": {},
   "source": [
    "# Clusteranalyse mit DBSCAN"
   ]
  },
  {
   "cell_type": "code",
   "execution_count": null,
   "id": "c9c9dcb3",
   "metadata": {},
   "outputs": [],
   "source": [
    "import warnings\n",
    "warnings.filterwarnings('ignore')\n",
    "import pandas as pd  \n",
    "import numpy as np  \n",
    "import matplotlib.pyplot as plt\n",
    "import seaborn as sns    \n",
    "from sklearn.preprocessing import StandardScaler\n",
    "from sklearn import metrics\n",
    "from itertools import product\n",
    "from sklearn.cluster import DBSCAN\n",
    "from sklearn.neighbors import NearestNeighbors"
   ]
  },
  {
   "cell_type": "code",
   "execution_count": null,
   "id": "0b6f14b4",
   "metadata": {},
   "outputs": [],
   "source": [
    "## Aufruf von DBCV aus Dateiordner\n",
    "\n",
    "from scipy.spatial.distance import euclidean\n",
    "%run DBCV.py"
   ]
  },
  {
   "cell_type": "code",
   "execution_count": null,
   "id": "76b0aea0",
   "metadata": {},
   "outputs": [],
   "source": [
    "def Musterplot(ax, title, xlabel, ylabel, xticks, yticks):\n",
    "    ax.spines['top'].set_visible(True)\n",
    "    ax.spines['right'].set_visible(True)\n",
    "\n",
    "    ax.xaxis.set_tick_params(top='on', direction='in', width=1)\n",
    "    ax.yaxis.set_tick_params(right='on', direction='in', width=1)\n",
    "    \n",
    "    ax.set_title(title,fontweight='bold',fontsize=14)\n",
    "    \n",
    "    ax.set_xlabel(xlabel,fontweight='bold',fontsize=12)\n",
    "    ax.set_ylabel(ylabel,fontweight='bold',fontsize=12)\n",
    "    \n",
    "    ax.set_xticks(xticks)\n",
    "    ax.set_yticks(yticks)"
   ]
  },
  {
   "cell_type": "code",
   "execution_count": null,
   "id": "b18d8884",
   "metadata": {
    "scrolled": true
   },
   "outputs": [],
   "source": [
    "df = pd.read_csv(\"Datensatz_Clusteranalyse.csv\", sep=\";\")"
   ]
  },
  {
   "cell_type": "code",
   "execution_count": null,
   "id": "5ac5a95a",
   "metadata": {
    "scrolled": true
   },
   "outputs": [],
   "source": [
    "df2 = df[['Ankunftszeit','Abfahrtszeit','Ladeanteil','Leistung_max (kW)','Verbrauch (kWh)']]\n",
    "df1 = df[['Leistung_max (kW)','Verbrauch (kWh)']]"
   ]
  },
  {
   "cell_type": "code",
   "execution_count": null,
   "id": "f1c746dd",
   "metadata": {},
   "outputs": [],
   "source": [
    "## Skalierung der Merkmale\n",
    "\n",
    "scaler = StandardScaler()\n",
    "X = scaler.fit_transform(df2)"
   ]
  },
  {
   "cell_type": "code",
   "execution_count": null,
   "id": "b0f4daa8",
   "metadata": {},
   "outputs": [],
   "source": [
    "## Bestimmung von Bereich für Epsilon\n",
    "\n",
    "minPts = 10\n",
    "\n",
    "nachbarn = NearestNeighbors(n_neighbors=minPts)\n",
    "nachbarn_fit = nachbarn.fit(X)\n",
    "distanz, index = nachbarn_fit.kneighbors(X)\n",
    "distanz = np.sort(distanz, axis=0)\n",
    "distanz = distanz[:,1]\n",
    "\n",
    "fig, ax = plt.subplots(1,1,figsize=(7,5))\n",
    "xlabel = \"Datenpunkte mit minPts\"\n",
    "ylabel = \"minimale Distanz\"\n",
    "title = \"Bereich von Epsilon\"\n",
    "yticks = np.arange(0, 2.6, step=0.2)\n",
    "xticks = np.arange(0, 1300, step=100)\n",
    "plt.grid()\n",
    "ax.set_axisbelow(True)\n",
    "ax.plot(distanz)\n",
    "Musterplot(ax, title, xlabel, ylabel, xticks, yticks)\n",
    "\n",
    "plt.show()\n",
    "\n",
    "fig.savefig(\"Bestimmung_Epsilon_DBSCAN\")"
   ]
  },
  {
   "cell_type": "code",
   "execution_count": null,
   "id": "ce5e670a",
   "metadata": {},
   "outputs": [],
   "source": [
    "## Validierung von allen Kombination von Epsilon und minPts\n",
    "\n",
    "eps_werte = np.round(np.arange(1.4,1.45,0.05),2)\n",
    "min_punkte = np.arange(3,4) \n",
    "dbscan_params = list(product(eps_werte, min_punkte))\n",
    "\n",
    "cluster = []\n",
    "DBCV_score = []\n",
    "epsi= []\n",
    "minPts = []\n",
    "\n",
    "for i in dbscan_params:\n",
    "    dbscan = DBSCAN(eps=i[0], min_samples=i[1])\n",
    "    Labels = dbscan.fit_predict(X)\n",
    "    epsi.append(i[0])\n",
    "    minPts.append(i[1])\n",
    "    cluster.append(len(np.unique(Labels)))\n",
    "    DBCV_score.append(DBCV(X, Labels, dist_function=euclidean))\n",
    "    eps_min = list(zip(cluster, DBCV_score, epsi, minPts))\n",
    "\n",
    "eps_min_df = pd.DataFrame(eps_min, columns=['cluster','DBCV_score','epsilon', 'minPts'])\n"
   ]
  },
  {
   "cell_type": "code",
   "execution_count": null,
   "id": "32dcf4b6",
   "metadata": {},
   "outputs": [],
   "source": [
    "## Auswahl des Ergebnis mit dem höchsten DBCV \n",
    "\n",
    "erg = eps_min_df.iloc[eps_min_df['DBCV_score'].idxmax()]"
   ]
  },
  {
   "cell_type": "code",
   "execution_count": null,
   "id": "e4eb68d0",
   "metadata": {},
   "outputs": [],
   "source": [
    "## Initalisierung von DBSCAN mit bester Kombination von minPts und Epsilon\n",
    "\n",
    "eps = erg.epsilon\n",
    "min_samples = int(erg.minPts)\n",
    "\n",
    "dbscan = DBSCAN(eps = eps, min_samples=min_samples)\n",
    "Labels = dbscan.fit_predict(X)"
   ]
  },
  {
   "cell_type": "code",
   "execution_count": null,
   "id": "1a7b4b44",
   "metadata": {
    "scrolled": true
   },
   "outputs": [],
   "source": [
    "## Zweidimensionales Beispiel (Ankunfts- und Abfahrtszeit)\n",
    "\n",
    "# fig, ax = plt.subplots(1,1,figsize=(7,5))\n",
    "\n",
    "# xlabel = \"Ankunftszeit in h\"\n",
    "# ylabel = \"Abfahrtszeit in h \"\n",
    "# title = \"Clusterergebnis mit DBSCAN (Ankunfts- und Abfahrtszeit)\"\n",
    "# yticks = np.arange(5, 25, step=1)\n",
    "# xticks = np.arange(5, 25, step=1)\n",
    "# plt.grid()\n",
    "# ax.set_axisbelow(True)\n",
    "# sns.scatterplot(df2['Ankunftszeit'], df2['Abfahrtszeit'], hue = df2['Labels'],palette=\"deep\")\n",
    "# # ax.scatter(df['Ankunftszeit'],df['Abfahrtszeit'], c = df2['Labels'])\n",
    "# # ax.scatter(kmeans.cluster_centers_[:,0] , kmeans.cluster_centers_[:,1] ,marker='x', s = 200, color = 'k')\n",
    "# Musterplot(ax, title, xlabel, ylabel, xticks, yticks)\n",
    "\n",
    "# plt.show()\n",
    "\n",
    "# fig.savefig(\"Scatterplot_An_Ab_Beispiel_DBSCAN\")"
   ]
  },
  {
   "cell_type": "code",
   "execution_count": null,
   "id": "37a42fdc",
   "metadata": {},
   "outputs": [],
   "source": [
    "## Zweidimensionales Beispiel (max Leistung und Gesamtverbrauch)\n",
    "\n",
    "# fig, ax = plt.subplots(1,1,figsize=(7,5))\n",
    "\n",
    "# xlabel = \"max. Leistung in kW\"\n",
    "# ylabel = \"Verbrauch in kWh\"\n",
    "# title = \"Clusterergebnis mit DBSCAN (Leistung und Verbrauch)\"\n",
    "# yticks = np.arange(0, 60, step=5)\n",
    "# xticks = np.arange(0, 22, step=1)\n",
    "# plt.grid()\n",
    "# ax.set_axisbelow(True)\n",
    "# sns.scatterplot(df2['Leistung_max (kW)'], df2['Verbrauch (kWh)'], hue = df2['Labels'],palette=\"deep\")\n",
    "# # ax.scatter(df['Ankunftszeit'],df['Abfahrtszeit'], c = df2['Labels'])\n",
    "# # ax.scatter(kmeans.cluster_centers_[:,0] , kmeans.cluster_centers_[:,1] ,marker='x', s = 200, color = 'k')\n",
    "# Musterplot(ax, title, xlabel, ylabel, xticks, yticks)\n",
    "\n",
    "# plt.show()\n",
    "\n",
    "# fig.savefig(\"Scatterplot_L_V_Beispiel_DBSCAN\")"
   ]
  }
 ],
 "metadata": {
  "kernelspec": {
   "display_name": "Python 3 (ipykernel)",
   "language": "python",
   "name": "python3"
  },
  "language_info": {
   "codemirror_mode": {
    "name": "ipython",
    "version": 3
   },
   "file_extension": ".py",
   "mimetype": "text/x-python",
   "name": "python",
   "nbconvert_exporter": "python",
   "pygments_lexer": "ipython3",
   "version": "3.9.7"
  },
  "widgets": {
   "application/vnd.jupyter.widget-state+json": {
    "state": {},
    "version_major": 2,
    "version_minor": 0
   }
  }
 },
 "nbformat": 4,
 "nbformat_minor": 5
}
