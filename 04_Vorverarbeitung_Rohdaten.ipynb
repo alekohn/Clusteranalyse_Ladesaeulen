{
 "cells": [
  {
   "cell_type": "markdown",
   "id": "251f9adb",
   "metadata": {},
   "source": [
    "# Vorverarbeitung der Rohdaten für die Clusteranalyse"
   ]
  },
  {
   "cell_type": "code",
   "execution_count": null,
   "id": "46456e30",
   "metadata": {},
   "outputs": [],
   "source": [
    "import pandas as pd  \n",
    "import numpy as np  \n",
    "import matplotlib.pyplot as plt\n",
    "import seaborn as sns\n",
    "import warnings\n",
    "warnings.filterwarnings('ignore')"
   ]
  },
  {
   "cell_type": "code",
   "execution_count": null,
   "id": "8f2d01e7",
   "metadata": {},
   "outputs": [],
   "source": [
    "d_parser = lambda x: pd.datetime.strptime(x, '%Y-%m-%d %H:%M:%S')\n",
    "df = pd.read_csv(r\"Dateipfad\\Rohdaten_Ladesäulen.csv\",sep=';', encoding='latin-1', decimal= ',', parse_dates=['Gestartet', 'Beendet'], date_parser=d_parser)"
   ]
  },
  {
   "cell_type": "code",
   "execution_count": null,
   "id": "b18f3922",
   "metadata": {},
   "outputs": [],
   "source": [
    "df.columns"
   ]
  },
  {
   "cell_type": "code",
   "execution_count": null,
   "id": "ff9c3d60",
   "metadata": {
    "scrolled": true
   },
   "outputs": [],
   "source": [
    "df = df[['Ladepunkt','Gestartet', 'Beendet','Standzeit','Ladezeit','Verbrauch (kWh)','kW_max', 'kW_mean', 'kW_min']]"
   ]
  },
  {
   "cell_type": "code",
   "execution_count": null,
   "id": "f8c9722d",
   "metadata": {},
   "outputs": [],
   "source": [
    "## Enfternung der leeren Einträge\n",
    "\n",
    "df = df.dropna()"
   ]
  },
  {
   "cell_type": "code",
   "execution_count": null,
   "id": "150f27fd",
   "metadata": {},
   "outputs": [],
   "source": [
    "## Anpassung des Datenformats\n",
    "\n",
    "df[\"Standzeit\"] = df[\"Standzeit\"].astype(float).astype(int)  \n",
    "df[\"Verbrauch (kWh)\"] = df[\"Verbrauch (kWh)\"].astype(float) \n",
    "df[\"kW_min\"] = df[\"kW_min\"].astype(float) \n",
    "df[\"kW_max\"] = df[\"kW_max\"].astype(float) \n",
    "df[\"kW_mean\"] = df[\"kW_mean\"].astype(float) \n",
    "df[\"Ladezeit\"] = df[\"Ladezeit\"].astype(float).astype(int) "
   ]
  },
  {
   "cell_type": "code",
   "execution_count": null,
   "id": "a76c2d9d",
   "metadata": {},
   "outputs": [],
   "source": [
    "## Entfernung der Ladevorgänge ohne Ladekurven  \n",
    "\n",
    "df = df[df[\"kW_min\"] != df[\"kW_max\"]]"
   ]
  },
  {
   "cell_type": "code",
   "execution_count": null,
   "id": "4215e3e8",
   "metadata": {},
   "outputs": [],
   "source": [
    "## Untersuchung der Merkmale mit statistischen Größen \n",
    "\n",
    "df.describe()"
   ]
  },
  {
   "cell_type": "code",
   "execution_count": null,
   "id": "25bf196f",
   "metadata": {},
   "outputs": [],
   "source": [
    "df[\"Monat\"] = df[\"Gestartet\"].dt.month_name()\n",
    "df[\"Wochentag\"] = df[\"Gestartet\"].dt.day_name()\n",
    "df[\"Gestartet_hour\"] = df[\"Gestartet\"].dt.hour\n",
    "df[\"Gestartet_minute\"] = df[\"Gestartet\"].dt.minute\n",
    "df[\"Gestartet_sekunde\"] = df[\"Gestartet\"].dt.second\n",
    "df[\"Beendet_hour\"] = df[\"Beendet\"].dt.hour \n",
    "df[\"Beendet_minute\"] = df[\"Beendet\"].dt.minute\n",
    "df[\"Beendet_sekunde\"] = df[\"Beendet\"].dt.second"
   ]
  },
  {
   "cell_type": "code",
   "execution_count": null,
   "id": "c940897c",
   "metadata": {},
   "outputs": [],
   "source": [
    "df[\"Leerlaufzeit\"] = df[\"Standzeit\"] - df[\"Ladezeit\"]"
   ]
  },
  {
   "cell_type": "code",
   "execution_count": null,
   "id": "511c9ad6",
   "metadata": {},
   "outputs": [],
   "source": [
    "df['Gestartet_Stunden'] = df[\"Gestartet_hour\"] + df[\"Gestartet_minute\"]/60 + df[\"Gestartet_sekunde\"]/3600\n",
    "df['Beendet_Stunden'] = df[\"Beendet_hour\"]  + df[\"Beendet_minute\"]/60 + df[\"Beendet_sekunde\"]/3600"
   ]
  },
  {
   "cell_type": "code",
   "execution_count": null,
   "id": "8927cc5b",
   "metadata": {},
   "outputs": [],
   "source": [
    "df['Standzeit'] = df['Standzeit']/3600\n",
    "df['Ladezeit'] = df['Ladezeit']/3600\n",
    "df['Leerlaufzeit'] = df['Leerlaufzeit']/3600"
   ]
  },
  {
   "cell_type": "code",
   "execution_count": null,
   "id": "2cd5e29a",
   "metadata": {},
   "outputs": [],
   "source": [
    "df = df.rename(columns={'Gestartet_Stunden': 'Ankunftszeit'})\n",
    "df = df.rename(columns={'Beendet_Stunden': 'Abfahrtszeit'})\n",
    "df = df.rename(columns={'Leerlauf': 'Leerlaufzeit'})\n",
    "df = df.rename(columns={'kW_max': 'Leistung_max (kW)'})"
   ]
  },
  {
   "cell_type": "code",
   "execution_count": null,
   "id": "6847fdcd",
   "metadata": {},
   "outputs": [],
   "source": [
    "df = df[['Ladepunkt','Ankunftszeit','Abfahrtszeit','Standzeit','Ladezeit'\n",
    "         ,'Leerlaufzeit','Leistung_max (kW)','Verbrauch (kWh)','Monat','Wochentag',]]"
   ]
  },
  {
   "cell_type": "code",
   "execution_count": null,
   "id": "dc5cea0e",
   "metadata": {
    "scrolled": false
   },
   "outputs": [],
   "source": [
    "df.describe()"
   ]
  },
  {
   "cell_type": "code",
   "execution_count": null,
   "id": "74f1ca4a",
   "metadata": {},
   "outputs": [],
   "source": [
    "df = df[df[\"Standzeit\"] > 0]\n",
    "df = df[df[\"Ladezeit\"] > 0]\n",
    "df = df[df[\"Leerlaufzeit\"] >= 0]\n",
    "df = df[df[\"Verbrauch (kWh)\"] > 0]\n",
    "df = df[df[\"Leistung_max (kW)\"] > 0]\n",
    "df = df[df[\"Standzeit\"] > 0.1]"
   ]
  },
  {
   "cell_type": "code",
   "execution_count": null,
   "id": "d8280431",
   "metadata": {},
   "outputs": [],
   "source": [
    "df.describe()"
   ]
  },
  {
   "cell_type": "code",
   "execution_count": null,
   "id": "d1117356",
   "metadata": {
    "scrolled": true
   },
   "outputs": [],
   "source": [
    "df.columns"
   ]
  },
  {
   "cell_type": "code",
   "execution_count": null,
   "id": "44f6b2d4",
   "metadata": {},
   "outputs": [],
   "source": [
    "df = df[['Ladepunkt','Ankunftszeit','Abfahrtszeit','Standzeit','Ladezeit',\n",
    "         'Leerlaufzeit','Leistung_max (kW)','Verbrauch (kWh)','Monat','Wochentag',]]"
   ]
  },
  {
   "cell_type": "code",
   "execution_count": null,
   "id": "2c791448",
   "metadata": {},
   "outputs": [],
   "source": [
    "df = df.reset_index(drop=True)"
   ]
  },
  {
   "cell_type": "code",
   "execution_count": null,
   "id": "90a8f4c9",
   "metadata": {},
   "outputs": [],
   "source": [
    "df.shape"
   ]
  },
  {
   "cell_type": "code",
   "execution_count": null,
   "id": "fe5a0f95",
   "metadata": {},
   "outputs": [],
   "source": [
    "## Untersuchung der Korrelation \n",
    "\n",
    "plt.figure(figsize = (16,8))\n",
    "korrelation = df.corr()\n",
    "sns.heatmap(korrelation, cmap= \"GnBu\", annot = True)\n",
    "\n",
    "# plt.savefig('Korrelationsmatrix.png', bbox_inches='tight')"
   ]
  },
  {
   "cell_type": "code",
   "execution_count": null,
   "id": "221b7407",
   "metadata": {},
   "outputs": [],
   "source": [
    "df[\"Ladeanteil\"] = (df[\"Ladezeit\"]/df[\"Standzeit\"])*100"
   ]
  },
  {
   "cell_type": "code",
   "execution_count": null,
   "id": "74b41d44",
   "metadata": {},
   "outputs": [],
   "source": [
    "def Musterplot(ax, title, xlabel, ylabel, xticks, yticks): \n",
    "    ax.spines['top'].set_visible(True)\n",
    "    ax.spines['right'].set_visible(True)\n",
    "\n",
    "    ax.xaxis.set_tick_params(top='on', direction='in', width=1)\n",
    "    ax.yaxis.set_tick_params(right='on', direction='in', width=1)\n",
    "    \n",
    "    ax.set_title(title,fontweight='bold',fontsize=14)\n",
    "    \n",
    "    ax.set_xlabel(xlabel,fontweight='bold',fontsize=12)\n",
    "    ax.set_ylabel(ylabel,fontweight='bold',fontsize=12)\n",
    "    \n",
    "    ax.set_xticks(xticks)\n",
    "    ax.set_yticks(yticks)"
   ]
  },
  {
   "cell_type": "code",
   "execution_count": null,
   "id": "045ffdb0",
   "metadata": {
    "scrolled": true
   },
   "outputs": [],
   "source": [
    "## Histogramm von Ankunfts- und Abfahrtszeit \n",
    "\n",
    "fig, ax = plt.subplots(1,1,figsize=(8,4))\n",
    "\n",
    "xlabel = \"Zeit in h\"\n",
    "ylabel = \"Anzahl der Ladevorgänge\"\n",
    "title = \"Ladevorgänge in Abhängigkeit der Ankunfts- und Abfahrtszeit\"\n",
    "yticks = np.arange(0, 200, step=20)\n",
    "xticks = np.arange(0, 25, step=1)\n",
    "plt.grid()\n",
    "ax.set_axisbelow(True)\n",
    "ax.hist(df['Ankunftszeit'],bins = 40, alpha=0.5, edgecolor = \"black\", label='Ankunftszeit')\n",
    "ax.hist(df['Abfahrtszeit'],bins = 40, alpha=0.5, edgecolor = \"black\", label='Abfahrzeit')\n",
    "plt.legend(loc='upper right')\n",
    "Musterplot(ax, title, xlabel, ylabel, xticks, yticks)\n",
    "plt.show()\n",
    "\n",
    "# fig.savefig(\"hist_AN_AB\", dpi=600)"
   ]
  },
  {
   "cell_type": "code",
   "execution_count": null,
   "id": "07f2fc15",
   "metadata": {},
   "outputs": [],
   "source": [
    "## Streudiagramm von Ankunfts- und Abfahrzeit\n",
    "\n",
    "fig, ax = plt.subplots(1,1,figsize=(7,5))\n",
    "\n",
    "xlabel = \"Ankunftszeit in h\"\n",
    "ylabel = \"Abfahrtszeit in h\"\n",
    "title = \"Zusammenhang zwischen Ankunfts- und Abfahrtszeit\"\n",
    "yticks = np.arange(0, 25, step=1)\n",
    "xticks = np.arange(0, 25, step=1)\n",
    "plt.grid()\n",
    "ax.set_axisbelow(True)\n",
    "ax.scatter(df['Ankunftszeit'],df['Abfahrtszeit'])\n",
    "Musterplot(ax, title, xlabel, ylabel, xticks, yticks)\n",
    "plt.show()\n",
    "\n",
    "# fig.savefig(\"Scatter_AN_AB\")"
   ]
  },
  {
   "cell_type": "code",
   "execution_count": null,
   "id": "cfff8090",
   "metadata": {},
   "outputs": [],
   "source": [
    "## Entfernung der Ausreißer bei Ankunfts- und Abfahrtszeit \n",
    "\n",
    "df = df[df[\"Ankunftszeit\"] > 5]\n",
    "df = df[df[\"Abfahrtszeit\"] > 5]"
   ]
  },
  {
   "cell_type": "code",
   "execution_count": null,
   "id": "15599c34",
   "metadata": {},
   "outputs": [],
   "source": [
    "## Streudiagramm von max. Leistung und Gesamtverbrauch \n",
    "\n",
    "fig, ax = plt.subplots(1,1,figsize=(7,5))\n",
    "\n",
    "xlabel = \"max. Leistung in kW\"\n",
    "ylabel = \"Gesamtverbrauch in kWh\"\n",
    "title = \"Zusammenhang zwischen Verbrauch und max. Leistung\"\n",
    "yticks = np.arange(0, 80, step=5)\n",
    "xticks = np.arange(0, 25, step=1)\n",
    "plt.grid()\n",
    "ax.set_axisbelow(True)\n",
    "ax.scatter(df['Leistung_max (kW)'],df['Verbrauch (kWh)'])\n",
    "Musterplot(ax, title, xlabel, ylabel, xticks, yticks)\n",
    "plt.show()\n",
    "\n",
    "# fig.savefig(\"Scatter_kW_kWh\")"
   ]
  },
  {
   "cell_type": "code",
   "execution_count": null,
   "id": "1d553cc8",
   "metadata": {
    "scrolled": false
   },
   "outputs": [],
   "source": [
    "## Histogramm von max. Leistung \n",
    "\n",
    "fig, ax = plt.subplots(1,1,figsize=(8,4))\n",
    "\n",
    "xlabel = \"max. Leistung in kW\"\n",
    "ylabel = \"Anzahl der Ladevorgänge\"\n",
    "title = \"Ladevorgänge in Abhängigkeit der max. Leistung\"\n",
    "xticks = np.arange(0, 24, step=1)\n",
    "yticks = np.arange(0, 480, step=40)\n",
    "plt.grid()\n",
    "ax.set_axisbelow(True)\n",
    "ax.hist(df['Leistung_max (kW)'], bins = 25, edgecolor = \"black\",rwidth=0.8)\n",
    "Musterplot(ax, title, xlabel, ylabel, xticks, yticks)\n",
    "plt.show()\n",
    "\n",
    "# fig.savefig(\"hist_Leistung\")"
   ]
  },
  {
   "cell_type": "code",
   "execution_count": null,
   "id": "b51ad892",
   "metadata": {
    "scrolled": true
   },
   "outputs": [],
   "source": [
    "## Histogramm von Ladeanteil\n",
    "\n",
    "fig, ax = plt.subplots(1,1,figsize=(8,4))\n",
    "\n",
    "xlabel = \"Ladeanteil in %\"\n",
    "ylabel = \"Anzahl der Ladevorgänge\"\n",
    "title = \"Ladevorgänge in Abhängigkeit des Ladeanteils\"\n",
    "xticks = np.arange(0, 110, step=10)\n",
    "yticks = np.arange(0, 400, step=40)\n",
    "plt.grid()\n",
    "ax.set_axisbelow(True)\n",
    "ax.hist(df['Ladeanteil'], bins = 25, edgecolor = \"black\",rwidth=.8,align='right')\n",
    "Musterplot(ax, title, xlabel, ylabel, xticks, yticks)\n",
    "plt.show()\n",
    "\n",
    "# fig.savefig(\"hist_Ladeanteil\")"
   ]
  },
  {
   "cell_type": "code",
   "execution_count": null,
   "id": "975815af",
   "metadata": {},
   "outputs": [],
   "source": [
    "## Histogramm von Wochentagen \n",
    "\n",
    "df['Wochentag'] = pd.Categorical(df['Wochentag'], ['Monday','Tuesday','Wednesday','Thursday', 'Friday','Saturday','Sunday'])\n",
    "\n",
    "fig, ax = plt.subplots(figsize=(8,4))\n",
    "\n",
    "ax = sns.histplot(data = df, \n",
    "            x = 'Wochentag',\n",
    "            shrink = 0.8, \n",
    "            discrete = True,\n",
    "            )\n",
    "plt.grid()\n",
    "\n",
    "ax.set_axisbelow(True)\n",
    "ax.set_title(\"Ladevorgänge in Abhänigkeit der Wochentage\")\n",
    "ax.set(xlabel = 'Anzahl der Ladevorgänge', ylabel='Wochentag')\n",
    "ax.spines['top'].set_visible(True)\n",
    "ax.spines['right'].set_visible(True)\n",
    "ax.xaxis.set_tick_params(top='on', direction='in', width=1)\n",
    "ax.yaxis.set_tick_params(right='on', direction='in', width=1)\n",
    "ax.set_title(title,fontweight='bold',fontsize=14)\n",
    "ax.set_xlabel(xlabel,fontweight='bold',fontsize=12)\n",
    "ax.set_ylabel(ylabel,fontweight='bold',fontsize=12)\n",
    "\n",
    "# fig.savefig(\"hist_Wochentag\")\n"
   ]
  },
  {
   "cell_type": "code",
   "execution_count": null,
   "id": "b18f66f6",
   "metadata": {},
   "outputs": [],
   "source": [
    "df.to_csv(\"Datensatz_Clusteranalyse.csv\", sep = \";\",index=False)"
   ]
  }
 ],
 "metadata": {
  "kernelspec": {
   "display_name": "Python 3 (ipykernel)",
   "language": "python",
   "name": "python3"
  },
  "language_info": {
   "codemirror_mode": {
    "name": "ipython",
    "version": 3
   },
   "file_extension": ".py",
   "mimetype": "text/x-python",
   "name": "python",
   "nbconvert_exporter": "python",
   "pygments_lexer": "ipython3",
   "version": "3.9.7"
  }
 },
 "nbformat": 4,
 "nbformat_minor": 5
}
