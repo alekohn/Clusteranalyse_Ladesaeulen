{
 "cells": [
  {
   "cell_type": "markdown",
   "id": "a2156442",
   "metadata": {},
   "source": [
    "# Clusteranalyse mit GMM"
   ]
  },
  {
   "cell_type": "code",
   "execution_count": null,
   "id": "67d8b7f4",
   "metadata": {},
   "outputs": [],
   "source": [
    "import warnings\n",
    "warnings.filterwarnings('ignore')\n",
    "import pandas as pd  \n",
    "import numpy as np  \n",
    "import matplotlib.pyplot as plt\n",
    "import seaborn as sns    \n",
    "from sklearn.mixture import GaussianMixture as GMM\n",
    "from sklearn.cluster import KMeans\n",
    "from sklearn.preprocessing import StandardScaler\n",
    "from sklearn import metrics"
   ]
  },
  {
   "cell_type": "code",
   "execution_count": null,
   "id": "9d803bea",
   "metadata": {},
   "outputs": [],
   "source": [
    "def Musterplot(ax, title, xlabel, ylabel, xticks, yticks):\n",
    "    ax.spines['top'].set_visible(True)\n",
    "    ax.spines['right'].set_visible(True)\n",
    "\n",
    "    ax.xaxis.set_tick_params(top='on', direction='in', width=1)\n",
    "    ax.yaxis.set_tick_params(right='on', direction='in', width=1)\n",
    "    \n",
    "    ax.set_title(title,fontweight='bold',fontsize=14)\n",
    "    \n",
    "    ax.set_xlabel(xlabel,fontweight='bold',fontsize=12)\n",
    "    ax.set_ylabel(ylabel,fontweight='bold',fontsize=12)\n",
    "    \n",
    "    ax.set_xticks(xticks)\n",
    "    ax.set_yticks(yticks)"
   ]
  },
  {
   "cell_type": "code",
   "execution_count": null,
   "id": "b18d8884",
   "metadata": {
    "scrolled": true
   },
   "outputs": [],
   "source": [
    "df = pd.read_csv(\"Datensatz_Clusteranalyse.csv\", sep=\";\")"
   ]
  },
  {
   "cell_type": "code",
   "execution_count": null,
   "id": "5ac5a95a",
   "metadata": {
    "scrolled": true
   },
   "outputs": [],
   "source": [
    "df2 = df[['Ankunftszeit','Abfahrtszeit','Ladeanteil','Leistung_max (kW)','Verbrauch (kWh)']]"
   ]
  },
  {
   "cell_type": "code",
   "execution_count": null,
   "id": "f1c746dd",
   "metadata": {},
   "outputs": [],
   "source": [
    "## Skalierung der Merkmale \n",
    "\n",
    "scaler = StandardScaler()\n",
    "X = scaler.fit_transform(df2)\n",
    "X = pd.DataFrame(X, columns=df2.columns)"
   ]
  },
  {
   "cell_type": "code",
   "execution_count": null,
   "id": "2cb56b13",
   "metadata": {
    "scrolled": true
   },
   "outputs": [],
   "source": [
    "## Ermittung von BIC und AIC für die Bestimmung der Clusteranzahl (k)\n",
    "\n",
    "bic = []\n",
    "aic = []\n",
    "\n",
    "for k in range(2, 12):\n",
    "    gmm = GMM(n_components=k, init_params='k-means++', random_state=None)\n",
    "    gmm.fit(X)\n",
    "    prediction_gmm = gmm.predict(X)\n",
    "    bic.append(gmm.bic(X))\n",
    "    aic.append(gmm.aic(X))  \n",
    "    \n",
    "fig, ax = plt.subplots()\n",
    "\n",
    "xlabel = \"k: Anzahl der Cluster\"\n",
    "ylabel = \"BIC/AIC Wert\"\n",
    "title = \"BIC und AIC\"\n",
    "\n",
    "yticks = np.arange(6000, 16000, step=1000)\n",
    "xticks = np.arange(2, 13, step=1)\n",
    "plt.grid()\n",
    "ax.plot(range(2, 12), bic, color='blue', marker='o',label='bic')\n",
    "ax.plot(range(2, 12), aic, color='orange', marker='o',label='aic')\n",
    "plt.legend(loc='upper right')\n",
    "Musterplot(ax, title, xlabel, ylabel, xticks, yticks)\n",
    "\n",
    "plt.show()\n",
    "\n",
    "# fig.savefig(\"BIC_AIC_L_V\")    \n"
   ]
  },
  {
   "cell_type": "code",
   "execution_count": null,
   "id": "edd2ecab",
   "metadata": {
    "scrolled": false
   },
   "outputs": [],
   "source": [
    "## Berechnung von AIC für 500 Initialisierung von GMM\n",
    "\n",
    "aic = []\n",
    "\n",
    "for k in range(1, 501):\n",
    "    gmm = GMM(n_components = 6, init_params = 'k-means++', random_state = k).fit(X)\n",
    "    prediction_gmm = gmm.predict(X)\n",
    "    aic.append(gmm.aic(X))\n",
    "    \n",
    "erg = pd.DataFrame(aic,  columns=['aic'])    "
   ]
  },
  {
   "cell_type": "code",
   "execution_count": null,
   "id": "f0523ee5",
   "metadata": {
    "scrolled": true
   },
   "outputs": [],
   "source": [
    "## Initialisierung mit niedrigstem AIC wird ausgewählt \n",
    "\n",
    "aic_min = erg.iloc[erg['aic'].idxmin()]"
   ]
  },
  {
   "cell_type": "code",
   "execution_count": null,
   "id": "44790dff",
   "metadata": {},
   "outputs": [],
   "source": [
    "## Beste Initialisierung von GMM über random_state\n",
    "\n",
    "random_state = aic_min.name\n",
    "\n",
    "gmm = GMM(n_components = 6, init_params = 'k-means++', random_state = random_state).fit(X)\n",
    "prediction_gmm = gmm.predict(X)"
   ]
  },
  {
   "cell_type": "code",
   "execution_count": null,
   "id": "f42a7a3c",
   "metadata": {},
   "outputs": [],
   "source": [
    "# Statistische Analyse der Cluster durch Mittelwert\n",
    "\n",
    "df2['Labels'] = prediction_gmm\n",
    "df2['Cluster'] = df2['Labels'].map({0:'Eins', 1:'Zwei', 2:'Drei',3:'Vier',4:'Fünf',5:'Sechs'})\n",
    "df2['Cluster'] = df2['Cluster'].astype('category')\n",
    "df2['Cluster'] = df2['Cluster'].cat.reorder_categories(['Eins','Zwei','Drei','Vier','Fünf','Sechs'])\n",
    "\n",
    "df3 = df2.groupby('Cluster').agg(\n",
    "    { \n",
    "        'Labels':'count',\n",
    "        'Ankunftszeit': 'mean',\n",
    "        'Abfahrtszeit': 'mean',\n",
    "        'Ladeanteil':'mean',\n",
    "        'Leistung_max (kW)': 'mean',\n",
    "        'Verbrauch (kWh)': 'mean',\n",
    "    }\n",
    ").reset_index()"
   ]
  },
  {
   "cell_type": "code",
   "execution_count": null,
   "id": "3604a3b0",
   "metadata": {},
   "outputs": [],
   "source": [
    "df3"
   ]
  },
  {
   "cell_type": "code",
   "execution_count": null,
   "id": "d7047f8a",
   "metadata": {},
   "outputs": [],
   "source": [
    "## Plot für zweidimensionales Beispiel (Ankunfts- und Abfahrtszeit)\n",
    "\n",
    "# fig, ax = plt.subplots(1,1,figsize=(7,5))\n",
    "\n",
    "# xlabel = \"Ankunftszeit in h\"\n",
    "# ylabel = \"Abfahrtszeit in h \"\n",
    "# title = \"Clusterergebnis mit GMM (Ankunfts- und Abfahrtszeit)\"\n",
    "# yticks = np.arange(5, 25, step=1)\n",
    "# xticks = np.arange(5, 25, step=1)\n",
    "# plt.grid()\n",
    "# ax.set_axisbelow(True)\n",
    "# sns.scatterplot(df2['Ankunftszeit'], df2['Abfahrtszeit'], hue = df2['Labels'],palette=\"deep\")\n",
    "# # ax.scatter(df['Ankunftszeit'],df['Abfahrtszeit'], c = df2['Labels'])\n",
    "# ax.scatter(gmm.means_[:,0] , gmm.means_[:,1] ,marker='x', s = 200, color = 'k')\n",
    "# Musterplot(ax, title, xlabel, ylabel, xticks, yticks)\n",
    "\n",
    "# plt.show()\n",
    "\n",
    "# fig.savefig(\"Scatterplot_AN_AB_Beispiel_GMM\")"
   ]
  },
  {
   "cell_type": "code",
   "execution_count": null,
   "id": "bfd1e493",
   "metadata": {},
   "outputs": [],
   "source": [
    "## Plot für Zweidimensionales Beispiel (max. Leistung und Gesamtsverbrauch)\n",
    "\n",
    "# X['Labels'] = prediction_gmm\n",
    "# fig, ax = plt.subplots(1,1,figsize=(7,5))\n",
    "\n",
    "# xlabel = \"max. Leistung (skaliert)\"\n",
    "# ylabel = \"Verbrauch (skaliert)\"\n",
    "# title = \"Clusterergebnis mit GMM (max. Leistung und Verbrauch)\"\n",
    "# yticks = np.arange(-2, 5.1, step=0.4)\n",
    "# xticks = np.arange(-2, 4, step=0.4)\n",
    "# plt.grid()\n",
    "# ax.set_axisbelow(True)\n",
    "# sns.scatterplot(X['Leistung_max (kW)'], X['Verbrauch (kWh)'], hue = X['Labels'], palette=\"deep\")\n",
    "# # ax.scatter(df['Ankunftszeit'], df['Abfahrtszeit'], c = df2['Labels'])\n",
    "# ax.scatter(gmm.means_[:,0] , gmm.means_[:,1] , marker='x', s = 200, color = 'k')\n",
    "# Musterplot(ax, title, xlabel, ylabel, xticks, yticks)\n",
    "\n",
    "# plt.show()\n",
    "\n",
    "# fig.savefig(\"Scatterplot_L_V_Beispiel_GMM\", dpi=600)"
   ]
  },
  {
   "cell_type": "code",
   "execution_count": null,
   "id": "38782c89",
   "metadata": {},
   "outputs": [],
   "source": [
    "## Boxplot für die Interpretation der Cluster \n",
    "\n",
    "fig, ax = plt.subplots(1,1,figsize=(5,7))\n",
    "\n",
    "xlabel = \"Cluster\"\n",
    "ylabel = \"Merkmal\"\n",
    "title = \"Boxplot: \"\n",
    "\n",
    "sns.boxplot(x='Cluster', y='Merkmal',data=df2, palette=\"deep\",\n",
    "                    medianprops={\"color\": \"black\"}, width=0.5, showmeans=True, meanprops={\"marker\":\"_\",\n",
    "                                                                                         \"markerfacecolor\":\"red\",\n",
    "                                                                                         \"markersize\": \"20\",\n",
    "                                                                                         \"markeredgecolor\":\"red\"})\n",
    "plt.grid()\n",
    "ax.set_axisbelow(True)\n",
    "ax.set_title(title)\n",
    "ax.set_xlabel(xlabel)\n",
    "ax.set_ylabel(ylabel)\n",
    "ax.spines['top'].set_visible(True)\n",
    "ax.spines['right'].set_visible(True)\n",
    "ax.xaxis.set_tick_params(top='on', direction='in', width=1)\n",
    "ax.yaxis.set_tick_params(right='on', direction='in', width=1)\n",
    "ax.set_title(title,fontweight='bold',fontsize=14)\n",
    "ax.set_xlabel(xlabel,fontweight='bold',fontsize=12)\n",
    "ax.set_ylabel(ylabel,fontweight='bold',fontsize=12)\n",
    "\n",
    "plt.show()\n",
    "\n",
    "# fig.savefig(\"Boxplot_Merkmal\")"
   ]
  }
 ],
 "metadata": {
  "kernelspec": {
   "display_name": "Python 3 (ipykernel)",
   "language": "python",
   "name": "python3"
  },
  "language_info": {
   "codemirror_mode": {
    "name": "ipython",
    "version": 3
   },
   "file_extension": ".py",
   "mimetype": "text/x-python",
   "name": "python",
   "nbconvert_exporter": "python",
   "pygments_lexer": "ipython3",
   "version": "3.9.7"
  },
  "widgets": {
   "application/vnd.jupyter.widget-state+json": {
    "state": {},
    "version_major": 2,
    "version_minor": 0
   }
  }
 },
 "nbformat": 4,
 "nbformat_minor": 5
}
