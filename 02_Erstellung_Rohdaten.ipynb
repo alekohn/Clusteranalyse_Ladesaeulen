{
 "cells": [
  {
   "cell_type": "markdown",
   "id": "79dbcf8a",
   "metadata": {},
   "source": [
    "# Erstellung der Rohdaten für die Vorverarbeitung\n",
    "- Extraktion der Merkmale aus den Ladekurven (Leistung und Ladezeit)\n",
    "- Zusammenfassen der Ladevorgänge mit den extrahierten Merkmalen\n"
   ]
  },
  {
   "cell_type": "code",
   "execution_count": null,
   "id": "ae963a2c",
   "metadata": {},
   "outputs": [],
   "source": [
    "import pandas as pd\n",
    "import os\n",
    "import matplotlib.pyplot\n",
    "import matplotlib.dates\n",
    "from datetime import datetime"
   ]
  },
  {
   "cell_type": "code",
   "execution_count": null,
   "id": "09351031",
   "metadata": {},
   "outputs": [],
   "source": [
    "# Extraktion der Leistungsgrößen und der Ladezeit aus allen Ladekurven.  \n",
    "\n",
    "path = r'Datenpfad\\\\'\n",
    "\n",
    "daten = []\n",
    "\n",
    "for file in [f for f in os.listdir(path) if '.csv' in f]:  \n",
    "    try:\n",
    "        fname = file.split('.')[0]\n",
    "        df = pd.read_csv(path+file, sep=';', engine='python')\n",
    "        df2 = df[df[\"&empty; Leistung (kW)\"] > 0]\n",
    "        lz = pd.to_timedelta(df2[\"Zeitspanne\"]).sum()\n",
    "        lz = lz.total_seconds()\n",
    "        kwmin = df2[\"&empty; Leistung (kW)\"].min()\n",
    "        kwmax = df2[\"&empty; Leistung (kW)\"].max()\n",
    "        kwmean = df2[\"&empty; Leistung (kW)\"].mean()\n",
    "        data = {'kW_min':[kwmin],'kW_max':[kwmax], 'kW_mean':[kwmean], 'Ladezeit':[lz]}\n",
    "        df = pd.DataFrame(data)\n",
    "        daten.append(df.assign(ID=fname))\n",
    "    except:\n",
    "        pass\n",
    "\n",
    "df = pd.concat(daten)\n",
    "df.to_csv(\"Leistung_Ladezeit.csv\", sep=\";\", index=False)\n"
   ]
  },
  {
   "cell_type": "code",
   "execution_count": null,
   "id": "b8787e3b",
   "metadata": {},
   "outputs": [],
   "source": [
    "## Zusammenfassen der Ladevoränge von WF und SZ.\n",
    "\n",
    "df1 = pd.read_csv(r'Datenpfad\\Ladevorgänge_WF_H.csv', sep=\";\")\n",
    "df2 = pd.read_csv(r'Datenpfad\\Ladevorgänge_WF_R.csv', sep=\";\")\n",
    "df3 = pd.read_csv(r'Datenpfad\\Ladevorgänge_SZ.csv', sep=\";\")\n",
    "concatenated = pd.concat([df1, df2, df3])\n",
    "concatenated.to_csv(\"Ladevorgänge_H_R_SZ.csv\", sep=\";\", index=False)"
   ]
  },
  {
   "cell_type": "code",
   "execution_count": null,
   "id": "49d45053",
   "metadata": {},
   "outputs": [],
   "source": [
    "## Zusammenfassen der Ladevorgänge mit den Leistungsgrößen und der Ladezeit.  \n",
    "\n",
    "df1 = pd.read_csv(r'Datenpfad\\Ladevorgänge_H_R_SZ.csv', sep=\";\")\n",
    "df2 = pd.read_csv(r'Datenpfad\\Leistung_Ladezeit.csv', sep=\";\")\n",
    "df3 = pd.merge(df1, df2, on='ID')\n",
    "df3.to_csv(\"Rohdaten_Ladesäulen.csv\", sep=\";\", index=False)"
   ]
  }
 ],
 "metadata": {
  "kernelspec": {
   "display_name": "Python 3 (ipykernel)",
   "language": "python",
   "name": "python3"
  },
  "language_info": {
   "codemirror_mode": {
    "name": "ipython",
    "version": 3
   },
   "file_extension": ".py",
   "mimetype": "text/x-python",
   "name": "python",
   "nbconvert_exporter": "python",
   "pygments_lexer": "ipython3",
   "version": "3.9.7"
  }
 },
 "nbformat": 4,
 "nbformat_minor": 5
}
